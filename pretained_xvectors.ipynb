{
  "nbformat": 4,
  "nbformat_minor": 0,
  "metadata": {
    "colab": {
      "provenance": [],
      "machine_shape": "hm",
      "gpuType": "V28"
    },
    "kernelspec": {
      "name": "python3",
      "display_name": "Python 3"
    },
    "language_info": {
      "name": "python"
    },
    "accelerator": "TPU",
    "widgets": {
      "application/vnd.jupyter.widget-state+json": {
        "d4673c87d61d459a9aecf520cdf980a2": {
          "model_module": "@jupyter-widgets/controls",
          "model_name": "HBoxModel",
          "model_module_version": "1.5.0",
          "state": {
            "_dom_classes": [],
            "_model_module": "@jupyter-widgets/controls",
            "_model_module_version": "1.5.0",
            "_model_name": "HBoxModel",
            "_view_count": null,
            "_view_module": "@jupyter-widgets/controls",
            "_view_module_version": "1.5.0",
            "_view_name": "HBoxView",
            "box_style": "",
            "children": [
              "IPY_MODEL_ff301bda7a0148dd92dd93cfbeee8ba0",
              "IPY_MODEL_9e3fc01fb68a495f8f5a252c4d2d2e45",
              "IPY_MODEL_dfeaf2406b3c4acd93f2017d9dad35b1"
            ],
            "layout": "IPY_MODEL_2d54148414764f8a859200525966fbb0"
          }
        },
        "ff301bda7a0148dd92dd93cfbeee8ba0": {
          "model_module": "@jupyter-widgets/controls",
          "model_name": "HTMLModel",
          "model_module_version": "1.5.0",
          "state": {
            "_dom_classes": [],
            "_model_module": "@jupyter-widgets/controls",
            "_model_module_version": "1.5.0",
            "_model_name": "HTMLModel",
            "_view_count": null,
            "_view_module": "@jupyter-widgets/controls",
            "_view_module_version": "1.5.0",
            "_view_name": "HTMLView",
            "description": "",
            "description_tooltip": null,
            "layout": "IPY_MODEL_cba2ced451f94362a378e67f160eaa8a",
            "placeholder": "​",
            "style": "IPY_MODEL_ff72343dfadf439f9ed057052b688db7",
            "value": "Resolving data files: 100%"
          }
        },
        "9e3fc01fb68a495f8f5a252c4d2d2e45": {
          "model_module": "@jupyter-widgets/controls",
          "model_name": "FloatProgressModel",
          "model_module_version": "1.5.0",
          "state": {
            "_dom_classes": [],
            "_model_module": "@jupyter-widgets/controls",
            "_model_module_version": "1.5.0",
            "_model_name": "FloatProgressModel",
            "_view_count": null,
            "_view_module": "@jupyter-widgets/controls",
            "_view_module_version": "1.5.0",
            "_view_name": "ProgressView",
            "bar_style": "success",
            "description": "",
            "description_tooltip": null,
            "layout": "IPY_MODEL_3afb81ce2a9c4eb3b956f033aa28c6cc",
            "max": 833,
            "min": 0,
            "orientation": "horizontal",
            "style": "IPY_MODEL_401e15c5691c41fdb6ddd1c66a0fd354",
            "value": 833
          }
        },
        "dfeaf2406b3c4acd93f2017d9dad35b1": {
          "model_module": "@jupyter-widgets/controls",
          "model_name": "HTMLModel",
          "model_module_version": "1.5.0",
          "state": {
            "_dom_classes": [],
            "_model_module": "@jupyter-widgets/controls",
            "_model_module_version": "1.5.0",
            "_model_name": "HTMLModel",
            "_view_count": null,
            "_view_module": "@jupyter-widgets/controls",
            "_view_module_version": "1.5.0",
            "_view_name": "HTMLView",
            "description": "",
            "description_tooltip": null,
            "layout": "IPY_MODEL_9ab8f9ca7eb94b87b6a03b96ce4a64a4",
            "placeholder": "​",
            "style": "IPY_MODEL_24aa192e5dc94755918db23000311085",
            "value": " 833/833 [00:00&lt;00:00, 14.11it/s]"
          }
        },
        "2d54148414764f8a859200525966fbb0": {
          "model_module": "@jupyter-widgets/base",
          "model_name": "LayoutModel",
          "model_module_version": "1.2.0",
          "state": {
            "_model_module": "@jupyter-widgets/base",
            "_model_module_version": "1.2.0",
            "_model_name": "LayoutModel",
            "_view_count": null,
            "_view_module": "@jupyter-widgets/base",
            "_view_module_version": "1.2.0",
            "_view_name": "LayoutView",
            "align_content": null,
            "align_items": null,
            "align_self": null,
            "border": null,
            "bottom": null,
            "display": null,
            "flex": null,
            "flex_flow": null,
            "grid_area": null,
            "grid_auto_columns": null,
            "grid_auto_flow": null,
            "grid_auto_rows": null,
            "grid_column": null,
            "grid_gap": null,
            "grid_row": null,
            "grid_template_areas": null,
            "grid_template_columns": null,
            "grid_template_rows": null,
            "height": null,
            "justify_content": null,
            "justify_items": null,
            "left": null,
            "margin": null,
            "max_height": null,
            "max_width": null,
            "min_height": null,
            "min_width": null,
            "object_fit": null,
            "object_position": null,
            "order": null,
            "overflow": null,
            "overflow_x": null,
            "overflow_y": null,
            "padding": null,
            "right": null,
            "top": null,
            "visibility": null,
            "width": null
          }
        },
        "cba2ced451f94362a378e67f160eaa8a": {
          "model_module": "@jupyter-widgets/base",
          "model_name": "LayoutModel",
          "model_module_version": "1.2.0",
          "state": {
            "_model_module": "@jupyter-widgets/base",
            "_model_module_version": "1.2.0",
            "_model_name": "LayoutModel",
            "_view_count": null,
            "_view_module": "@jupyter-widgets/base",
            "_view_module_version": "1.2.0",
            "_view_name": "LayoutView",
            "align_content": null,
            "align_items": null,
            "align_self": null,
            "border": null,
            "bottom": null,
            "display": null,
            "flex": null,
            "flex_flow": null,
            "grid_area": null,
            "grid_auto_columns": null,
            "grid_auto_flow": null,
            "grid_auto_rows": null,
            "grid_column": null,
            "grid_gap": null,
            "grid_row": null,
            "grid_template_areas": null,
            "grid_template_columns": null,
            "grid_template_rows": null,
            "height": null,
            "justify_content": null,
            "justify_items": null,
            "left": null,
            "margin": null,
            "max_height": null,
            "max_width": null,
            "min_height": null,
            "min_width": null,
            "object_fit": null,
            "object_position": null,
            "order": null,
            "overflow": null,
            "overflow_x": null,
            "overflow_y": null,
            "padding": null,
            "right": null,
            "top": null,
            "visibility": null,
            "width": null
          }
        },
        "ff72343dfadf439f9ed057052b688db7": {
          "model_module": "@jupyter-widgets/controls",
          "model_name": "DescriptionStyleModel",
          "model_module_version": "1.5.0",
          "state": {
            "_model_module": "@jupyter-widgets/controls",
            "_model_module_version": "1.5.0",
            "_model_name": "DescriptionStyleModel",
            "_view_count": null,
            "_view_module": "@jupyter-widgets/base",
            "_view_module_version": "1.2.0",
            "_view_name": "StyleView",
            "description_width": ""
          }
        },
        "3afb81ce2a9c4eb3b956f033aa28c6cc": {
          "model_module": "@jupyter-widgets/base",
          "model_name": "LayoutModel",
          "model_module_version": "1.2.0",
          "state": {
            "_model_module": "@jupyter-widgets/base",
            "_model_module_version": "1.2.0",
            "_model_name": "LayoutModel",
            "_view_count": null,
            "_view_module": "@jupyter-widgets/base",
            "_view_module_version": "1.2.0",
            "_view_name": "LayoutView",
            "align_content": null,
            "align_items": null,
            "align_self": null,
            "border": null,
            "bottom": null,
            "display": null,
            "flex": null,
            "flex_flow": null,
            "grid_area": null,
            "grid_auto_columns": null,
            "grid_auto_flow": null,
            "grid_auto_rows": null,
            "grid_column": null,
            "grid_gap": null,
            "grid_row": null,
            "grid_template_areas": null,
            "grid_template_columns": null,
            "grid_template_rows": null,
            "height": null,
            "justify_content": null,
            "justify_items": null,
            "left": null,
            "margin": null,
            "max_height": null,
            "max_width": null,
            "min_height": null,
            "min_width": null,
            "object_fit": null,
            "object_position": null,
            "order": null,
            "overflow": null,
            "overflow_x": null,
            "overflow_y": null,
            "padding": null,
            "right": null,
            "top": null,
            "visibility": null,
            "width": null
          }
        },
        "401e15c5691c41fdb6ddd1c66a0fd354": {
          "model_module": "@jupyter-widgets/controls",
          "model_name": "ProgressStyleModel",
          "model_module_version": "1.5.0",
          "state": {
            "_model_module": "@jupyter-widgets/controls",
            "_model_module_version": "1.5.0",
            "_model_name": "ProgressStyleModel",
            "_view_count": null,
            "_view_module": "@jupyter-widgets/base",
            "_view_module_version": "1.2.0",
            "_view_name": "StyleView",
            "bar_color": null,
            "description_width": ""
          }
        },
        "9ab8f9ca7eb94b87b6a03b96ce4a64a4": {
          "model_module": "@jupyter-widgets/base",
          "model_name": "LayoutModel",
          "model_module_version": "1.2.0",
          "state": {
            "_model_module": "@jupyter-widgets/base",
            "_model_module_version": "1.2.0",
            "_model_name": "LayoutModel",
            "_view_count": null,
            "_view_module": "@jupyter-widgets/base",
            "_view_module_version": "1.2.0",
            "_view_name": "LayoutView",
            "align_content": null,
            "align_items": null,
            "align_self": null,
            "border": null,
            "bottom": null,
            "display": null,
            "flex": null,
            "flex_flow": null,
            "grid_area": null,
            "grid_auto_columns": null,
            "grid_auto_flow": null,
            "grid_auto_rows": null,
            "grid_column": null,
            "grid_gap": null,
            "grid_row": null,
            "grid_template_areas": null,
            "grid_template_columns": null,
            "grid_template_rows": null,
            "height": null,
            "justify_content": null,
            "justify_items": null,
            "left": null,
            "margin": null,
            "max_height": null,
            "max_width": null,
            "min_height": null,
            "min_width": null,
            "object_fit": null,
            "object_position": null,
            "order": null,
            "overflow": null,
            "overflow_x": null,
            "overflow_y": null,
            "padding": null,
            "right": null,
            "top": null,
            "visibility": null,
            "width": null
          }
        },
        "24aa192e5dc94755918db23000311085": {
          "model_module": "@jupyter-widgets/controls",
          "model_name": "DescriptionStyleModel",
          "model_module_version": "1.5.0",
          "state": {
            "_model_module": "@jupyter-widgets/controls",
            "_model_module_version": "1.5.0",
            "_model_name": "DescriptionStyleModel",
            "_view_count": null,
            "_view_module": "@jupyter-widgets/base",
            "_view_module_version": "1.2.0",
            "_view_name": "StyleView",
            "description_width": ""
          }
        }
      }
    }
  },
  "cells": [
    {
      "cell_type": "code",
      "source": [
        "# Transfer Learning for Parkinson’s Disease Detection via Speaker x-vectors\n",
        "# Extracted x-vectors with a pretrained model and use them as fixed features for a downstream classifier.\n",
        "\n",
        "# The LSTM-based model trained for Parkinson’s disease detection."
      ],
      "metadata": {
        "id": "6NwmlsZenBBe"
      },
      "execution_count": null,
      "outputs": []
    },
    {
      "cell_type": "code",
      "source": [
        "# STEP 1: Install and Load Packages\n",
        "!pip install git+https://github.com/speechbrain/speechbrain.git@develop torchaudio datasets pandas matplotlib seaborn scikit-learn --quiet\n",
        "\n",
        "# STEP 2: Load Dataset and Save WAV Files\n",
        "from datasets import load_dataset\n",
        "import torchaudio, torch, os\n",
        "import pandas as pd\n",
        "import time\n",
        "\n",
        "print(\"Loading dataset...\")\n",
        "dataset = load_dataset(\"birgermoell/Italian_Parkinsons_Voice_and_Speech\", split=\"train\")\n",
        "\n",
        "os.makedirs(\"/content/parkinsons_xvect_experiment/audio\", exist_ok=True)"
      ],
      "metadata": {
        "colab": {
          "base_uri": "https://localhost:8080/",
          "height": 118,
          "referenced_widgets": [
            "d4673c87d61d459a9aecf520cdf980a2",
            "ff301bda7a0148dd92dd93cfbeee8ba0",
            "9e3fc01fb68a495f8f5a252c4d2d2e45",
            "dfeaf2406b3c4acd93f2017d9dad35b1",
            "2d54148414764f8a859200525966fbb0",
            "cba2ced451f94362a378e67f160eaa8a",
            "ff72343dfadf439f9ed057052b688db7",
            "3afb81ce2a9c4eb3b956f033aa28c6cc",
            "401e15c5691c41fdb6ddd1c66a0fd354",
            "9ab8f9ca7eb94b87b6a03b96ce4a64a4",
            "24aa192e5dc94755918db23000311085"
          ]
        },
        "collapsed": true,
        "id": "fRZl5kjfO-yA",
        "outputId": "e46dda84-3259-4560-d205-d52eea1ba6d7"
      },
      "execution_count": null,
      "outputs": [
        {
          "output_type": "stream",
          "name": "stdout",
          "text": [
            "  Installing build dependencies ... \u001b[?25l\u001b[?25hdone\n",
            "  Getting requirements to build wheel ... \u001b[?25l\u001b[?25hdone\n",
            "  Preparing metadata (pyproject.toml) ... \u001b[?25l\u001b[?25hdone\n",
            "Loading dataset...\n"
          ]
        },
        {
          "output_type": "display_data",
          "data": {
            "text/plain": [
              "Resolving data files:   0%|          | 0/833 [00:00<?, ?it/s]"
            ],
            "application/vnd.jupyter.widget-view+json": {
              "version_major": 2,
              "version_minor": 0,
              "model_id": "d4673c87d61d459a9aecf520cdf980a2"
            }
          },
          "metadata": {}
        }
      ]
    },
    {
      "cell_type": "code",
      "source": [
        "# folders = set()\n",
        "# folders2 = set()\n",
        "# for i in range(500):\n",
        "#     path = dataset[i]['audio']['path']\n",
        "#     folder = path.split('/')[-3]\n",
        "#     folder1 = path.split('/')[-4]\n",
        "#     folders.add(folder)\n",
        "#     folders2.add(folder1)\n",
        "# print(\"Folders seen:\", folders)\n",
        "# print(\"Folders seen:\", folders2)"
      ],
      "metadata": {
        "colab": {
          "base_uri": "https://localhost:8080/"
        },
        "id": "oP84fYmNEcwY",
        "outputId": "0ae78e8d-a1ed-4257-b426-cc1bb5c1038a"
      },
      "execution_count": null,
      "outputs": [
        {
          "output_type": "stream",
          "name": "stdout",
          "text": [
            "Folders seen: {'22 Elderly Healthy Control', '1-5', '15 Young Healthy Control', '11-16'}\n"
          ]
        }
      ]
    },
    {
      "cell_type": "code",
      "source": [
        "# Save audio files and create metadata CSV\n",
        "base_audio_dir = \"/content/parkinsons_xvect_experiment/audio\"\n",
        "\n",
        "# Create subdirectories for each label\n",
        "os.makedirs(os.path.join(base_audio_dir, 'HC'), exist_ok=True)\n",
        "os.makedirs(os.path.join(base_audio_dir, 'PD'), exist_ok=True)\n",
        "\n",
        "metadata = []\n",
        "for i, sample in enumerate(dataset):\n",
        "    file_path = sample['audio']['path']\n",
        "    # Skip non-audio files\n",
        "    if \".zip\" in file_path or \".xlsx\" in file_path:\n",
        "        continue\n",
        "    # Label extraction logic\n",
        "    low_path = file_path.lower()\n",
        "    if \"healthy\" in low_path or \"control\" in low_path:\n",
        "        label = \"HC\"\n",
        "    elif \"parkinson\" in low_path or \"disease\" in low_path:\n",
        "        label = \"PD\"\n",
        "    else:\n",
        "        continue  # skip unknown/invalid paths\n",
        "\n",
        "    # Save audio files to respective label folders\n",
        "    save_path = f\"/content/parkinsons_xvect_experiment/audio/{label}/sample_{i}_{label}.wav\"\n",
        "    torchaudio.save(save_path, torch.tensor(sample['audio']['array']).unsqueeze(0), sample['audio']['sampling_rate'])\n",
        "    metadata.append((f\"sample_{i}\", save_path, label))\n",
        "\n",
        "# List files after organizing into directories\n",
        "hc_files = os.listdir(os.path.join(base_audio_dir, 'HC'))\n",
        "pd_files = os.listdir(os.path.join(base_audio_dir, 'PD'))\n",
        "\n",
        "print(f\"\\nHC Files: {len(hc_files)}\")\n",
        "print(f\"PD Files: {len(pd_files)}\")\n"
      ],
      "metadata": {
        "colab": {
          "base_uri": "https://localhost:8080/"
        },
        "id": "Ythq_Y5HD8rR",
        "outputId": "a7be973c-99a4-4ec4-ab67-0dca30b449eb"
      },
      "execution_count": null,
      "outputs": [
        {
          "output_type": "stream",
          "name": "stdout",
          "text": [
            "\n",
            "HC Files: 394\n",
            "PD Files: 437\n"
          ]
        }
      ]
    },
    {
      "cell_type": "code",
      "source": [
        "import os\n",
        "\n",
        "# Specify the main directory where your dataset is located\n",
        "base_audio_dir = \"/content/parkinsons_xvect_experiment/audio\"\n",
        "\n",
        "# Walk through all subdirectories and gather the audio files\n",
        "audio_files = []\n",
        "for root, dirs, files in os.walk(base_audio_dir):\n",
        "    for file in files:\n",
        "        if file.endswith('.wav'):  # Only consider .wav files\n",
        "            audio_files.append(os.path.join(root, file))\n",
        "\n",
        "# Print total number of audio files\n",
        "print(f\"Total number of audio files: {len(audio_files)}\")\n",
        "\n",
        "# Optionally, print first 10 files to verify\n",
        "for audio_file in audio_files[:10]:\n",
        "    print(audio_file)\n",
        "\n",
        "# Assuming that you know the folder names (like '15 Young Healthy Control', '22 Elderly Healthy Control', etc.)\n",
        "for audio_file in audio_files:\n",
        "    if \"15 Young Healthy Control\" in audio_file:\n",
        "        print(\"Young Healthy Control:\", audio_file)\n",
        "    elif \"22 Elderly Healthy Control\" in audio_file:\n",
        "        print(\"Elderly Healthy Control:\", audio_file)\n",
        "    elif \"28 People with Parkinson's disease\" in audio_file:\n",
        "        print(\"Parkinson's disease:\", audio_file)\n"
      ],
      "metadata": {
        "colab": {
          "base_uri": "https://localhost:8080/"
        },
        "id": "RytDeaytFT6X",
        "outputId": "73014274-da3c-4c93-9fef-db2f6c50fa79"
      },
      "execution_count": null,
      "outputs": [
        {
          "output_type": "stream",
          "name": "stdout",
          "text": [
            "Total number of audio files: 1662\n",
            "/content/parkinsons_xvect_experiment/audio/sample_730_PD.wav\n",
            "/content/parkinsons_xvect_experiment/audio/sample_14_HC.wav\n",
            "/content/parkinsons_xvect_experiment/audio/sample_46_HC.wav\n",
            "/content/parkinsons_xvect_experiment/audio/sample_375_HC.wav\n",
            "/content/parkinsons_xvect_experiment/audio/sample_44_HC.wav\n",
            "/content/parkinsons_xvect_experiment/audio/sample_736_PD.wav\n",
            "/content/parkinsons_xvect_experiment/audio/sample_531_PD.wav\n",
            "/content/parkinsons_xvect_experiment/audio/sample_317_HC.wav\n",
            "/content/parkinsons_xvect_experiment/audio/sample_715_PD.wav\n",
            "/content/parkinsons_xvect_experiment/audio/sample_37_HC.wav\n"
          ]
        }
      ]
    },
    {
      "cell_type": "code",
      "source": [
        "# for i, sample in enumerate(metadata):\n",
        "#     if i >= 1000:\n",
        "#         break\n",
        "#     print(sample['audio']['path'])\n",
        "\n",
        "# for entry in metadata:\n",
        "#     print(entry)\n",
        "\n",
        "from sklearn.model_selection import train_test_split\n",
        "import pandas as pd\n",
        "\n",
        "df = pd.DataFrame(metadata, columns=[\"ID\", \"wav\", \"spk_id\"])\n",
        "\n",
        "# Check the count of each label (spk_id)\n",
        "label_counts = df[\"spk_id\"].value_counts()\n",
        "\n",
        "# Print label counts\n",
        "print(\"Label counts:\")\n",
        "print(label_counts)\n",
        "\n",
        "# If you want to check whether there are both labels (\"PD\" and \"HC\") in the dataset\n",
        "if \"PD\" in label_counts and \"HC\" in label_counts:\n",
        "    print(\"Both 'PD' and 'HC' labels are present.\")\n",
        "else:\n",
        "    print(\"One or both labels ('PD' and 'HC') are missing.\")"
      ],
      "metadata": {
        "colab": {
          "base_uri": "https://localhost:8080/"
        },
        "collapsed": true,
        "id": "jmcCl_7NxOXo",
        "outputId": "5998de88-8314-45bc-f817-1987797c65cf"
      },
      "execution_count": null,
      "outputs": [
        {
          "output_type": "stream",
          "name": "stdout",
          "text": [
            "Label counts:\n",
            "spk_id\n",
            "PD    437\n",
            "HC    394\n",
            "Name: count, dtype: int64\n",
            "Both 'PD' and 'HC' labels are present.\n"
          ]
        }
      ]
    },
    {
      "cell_type": "code",
      "source": [
        "# Save metadata and perform stratified split\n",
        "train_df, test_df = train_test_split(df, test_size=0.2, stratify=df[\"spk_id\"], random_state=42)\n",
        "valid_df, test_df = train_test_split(test_df, test_size=0.5, stratify=test_df[\"spk_id\"], random_state=42)\n",
        "\n",
        "base = \"/content/parkinsons_xvect_experiment\"\n",
        "train_df.to_csv(f\"{base}/train.csv\", index=False)\n",
        "valid_df.to_csv(f\"{base}/valid.csv\", index=False)\n",
        "test_df.to_csv(f\"{base}/test.csv\", index=False)"
      ],
      "metadata": {
        "id": "QPeP6oiOxMNn"
      },
      "execution_count": null,
      "outputs": []
    },
    {
      "cell_type": "code",
      "source": [
        "# ---- Add this block to check label counts ----\n",
        "print(\"Train split label counts:\")\n",
        "print(train_df[\"spk_id\"].value_counts())\n",
        "print(\"\\nValidation split label counts:\")\n",
        "print(valid_df[\"spk_id\"].value_counts())\n",
        "print(\"\\nTest split label counts:\")\n",
        "print(test_df[\"spk_id\"].value_counts())\n",
        "# ---------------------------------------------"
      ],
      "metadata": {
        "colab": {
          "base_uri": "https://localhost:8080/"
        },
        "id": "55XKF_Itnx76",
        "outputId": "75b6537d-8470-48bb-9be5-6f7afd5b8d50"
      },
      "execution_count": null,
      "outputs": [
        {
          "output_type": "stream",
          "name": "stdout",
          "text": [
            "Train split label counts:\n",
            "spk_id\n",
            "PD    349\n",
            "HC    315\n",
            "Name: count, dtype: int64\n",
            "\n",
            "Validation split label counts:\n",
            "spk_id\n",
            "PD    44\n",
            "HC    39\n",
            "Name: count, dtype: int64\n",
            "\n",
            "Test split label counts:\n",
            "spk_id\n",
            "PD    44\n",
            "HC    40\n",
            "Name: count, dtype: int64\n"
          ]
        }
      ]
    },
    {
      "cell_type": "code",
      "source": [
        "# STEP 3: Data leakage check\n",
        "train_subjects = set(train_df['ID'])\n",
        "valid_subjects = set(valid_df['ID'])\n",
        "test_subjects = set(test_df['ID'])\n",
        "print(\"Leakage train/test:\", len(train_subjects.intersection(test_subjects)) > 0)\n",
        "print(\"Leakage train/valid:\", len(train_subjects.intersection(valid_subjects)) > 0)\n",
        "print(\"Leakage valid/test:\", len(valid_subjects.intersection(test_subjects)) > 0)"
      ],
      "metadata": {
        "colab": {
          "base_uri": "https://localhost:8080/"
        },
        "id": "QnhxYsP-ap57",
        "outputId": "cd297b8d-cc75-4640-a07d-17cb7d2d0aad"
      },
      "execution_count": null,
      "outputs": [
        {
          "output_type": "stream",
          "name": "stdout",
          "text": [
            "Leakage train/test: False\n",
            "Leakage train/valid: False\n",
            "Leakage valid/test: False\n"
          ]
        }
      ]
    },
    {
      "cell_type": "code",
      "source": [
        "# STEP 4: X-vector extraction with audio augmentation\n",
        "from speechbrain.inference.speaker import EncoderClassifier\n",
        "from tqdm import tqdm\n",
        "\n",
        "# X-vector classifier (pre-trained model)\n",
        "classifier = EncoderClassifier.from_hparams(source=\"speechbrain/spkrec-xvect-voxceleb\", savedir=\"pretrained_models/spkrec-xvect-voxceleb\")\n",
        "\n",
        "# Audio augmentation for better generalization\n",
        "def augment_audio(waveform, sample_rate):\n",
        "    # Add random noise\n",
        "    if random.random() < 0.5:\n",
        "        noise = torch.randn_like(waveform) * 0.03\n",
        "        waveform = waveform + noise\n",
        "    # Random gain (volume)\n",
        "    if random.random() < 0.3:\n",
        "        gain = 1.0 + random.uniform(-0.1, 0.1)\n",
        "        waveform = waveform * gain\n",
        "    # Random time masking (zero out a random segment)\n",
        "    if random.random() < 0.3 and waveform.shape[1] > sample_rate // 10:\n",
        "        time_mask_len = int(sample_rate * random.uniform(0.01, 0.05))\n",
        "        start = random.randint(0, waveform.shape[1] - time_mask_len)\n",
        "        waveform[:, start:start + time_mask_len] = 0.0\n",
        "    return waveform\n",
        "\n",
        "# Function to extract embeddings from audio files\n",
        "def extract_embeddings(csv_path, out_embed, out_labels, augment=False):\n",
        "    df = pd.read_csv(csv_path)\n",
        "    embeddings, labels = [], []\n",
        "    for _, row in tqdm(df.iterrows(), total=len(df)):\n",
        "        wav_path = row['wav']\n",
        "        label = 1 if row['spk_id'] == 'PD' else 0\n",
        "        signal, fs = torchaudio.load(wav_path)\n",
        "        if augment:\n",
        "            signal = augment_audio(signal, fs)\n",
        "        emb = classifier.encode_batch(signal).squeeze(0).squeeze(0).detach().numpy()\n",
        "        embeddings.append(emb)\n",
        "        labels.append(label)\n",
        "    np.save(out_embed, np.array(embeddings))\n",
        "    np.save(out_labels, np.array(labels))\n",
        "\n",
        "# Extract embeddings for training, validation, and testing\n",
        "extract_embeddings(f\"{base}/train.csv\", f\"{base}/xvec_train.npy\", f\"{base}/y_train.npy\", augment=True)\n",
        "extract_embeddings(f\"{base}/valid.csv\", f\"{base}/xvec_valid.npy\", f\"{base}/y_valid.npy\", augment=False)\n",
        "extract_embeddings(f\"{base}/test.csv\", f\"{base}/xvec_test.npy\", f\"{base}/y_test.npy\", augment=False)"
      ],
      "metadata": {
        "colab": {
          "base_uri": "https://localhost:8080/"
        },
        "collapsed": true,
        "id": "TPL_2HcDWYir",
        "outputId": "94ed85a2-1206-4172-bf2d-7a946c2e520b"
      },
      "execution_count": null,
      "outputs": [
        {
          "output_type": "stream",
          "name": "stderr",
          "text": [
            "INFO:speechbrain.utils.fetching:Fetch hyperparams.yaml: Using symlink found at '/content/pretrained_models/spkrec-xvect-voxceleb/hyperparams.yaml'\n",
            "INFO:speechbrain.utils.fetching:Fetch custom.py: Fetching from HuggingFace Hub 'speechbrain/spkrec-xvect-voxceleb' if not cached\n",
            "DEBUG:speechbrain.utils.parameter_transfer:Collecting files (or symlinks) for pretraining in pretrained_models/spkrec-xvect-voxceleb.\n",
            "INFO:speechbrain.utils.fetching:Fetch embedding_model.ckpt: Using symlink found at '/content/pretrained_models/spkrec-xvect-voxceleb/embedding_model.ckpt'\n",
            "DEBUG:speechbrain.utils.parameter_transfer:Set local path in self.paths[\"embedding_model\"] = /content/pretrained_models/spkrec-xvect-voxceleb/embedding_model.ckpt\n",
            "INFO:speechbrain.utils.fetching:Fetch mean_var_norm_emb.ckpt: Using symlink found at '/content/pretrained_models/spkrec-xvect-voxceleb/mean_var_norm_emb.ckpt'\n",
            "DEBUG:speechbrain.utils.parameter_transfer:Set local path in self.paths[\"mean_var_norm_emb\"] = /content/pretrained_models/spkrec-xvect-voxceleb/mean_var_norm_emb.ckpt\n",
            "INFO:speechbrain.utils.fetching:Fetch classifier.ckpt: Using symlink found at '/content/pretrained_models/spkrec-xvect-voxceleb/classifier.ckpt'\n",
            "DEBUG:speechbrain.utils.parameter_transfer:Set local path in self.paths[\"classifier\"] = /content/pretrained_models/spkrec-xvect-voxceleb/classifier.ckpt\n",
            "INFO:speechbrain.utils.fetching:Fetch label_encoder.txt: Using symlink found at '/content/pretrained_models/spkrec-xvect-voxceleb/label_encoder.ckpt'\n",
            "DEBUG:speechbrain.utils.parameter_transfer:Set local path in self.paths[\"label_encoder\"] = /content/pretrained_models/spkrec-xvect-voxceleb/label_encoder.ckpt\n",
            "INFO:speechbrain.utils.parameter_transfer:Loading pretrained files for: embedding_model, mean_var_norm_emb, classifier, label_encoder\n",
            "DEBUG:speechbrain.utils.parameter_transfer:Redirecting (loading from local path): embedding_model -> /content/pretrained_models/spkrec-xvect-voxceleb/embedding_model.ckpt\n",
            "DEBUG:speechbrain.utils.parameter_transfer:Redirecting (loading from local path): mean_var_norm_emb -> /content/pretrained_models/spkrec-xvect-voxceleb/mean_var_norm_emb.ckpt\n",
            "DEBUG:speechbrain.utils.parameter_transfer:Redirecting (loading from local path): classifier -> /content/pretrained_models/spkrec-xvect-voxceleb/classifier.ckpt\n",
            "DEBUG:speechbrain.utils.parameter_transfer:Redirecting (loading from local path): label_encoder -> /content/pretrained_models/spkrec-xvect-voxceleb/label_encoder.ckpt\n",
            "DEBUG:speechbrain.dataio.encoder:Loaded categorical encoding from /content/pretrained_models/spkrec-xvect-voxceleb/label_encoder.ckpt\n",
            "100%|██████████| 664/664 [00:35<00:00, 18.49it/s]\n",
            "100%|██████████| 83/83 [00:03<00:00, 21.24it/s]\n",
            "100%|██████████| 84/84 [00:03<00:00, 23.04it/s]\n"
          ]
        }
      ]
    },
    {
      "cell_type": "code",
      "execution_count": null,
      "metadata": {
        "colab": {
          "base_uri": "https://localhost:8080/"
        },
        "id": "r8jHt6lw-bln",
        "outputId": "35ce526f-1d82-4925-c2e9-08532b9bcf52"
      },
      "outputs": [
        {
          "output_type": "stream",
          "name": "stdout",
          "text": [
            "\n",
            "Fold 1/5\n",
            "Epoch 1, Train Loss: 0.7021, Val Loss: 0.6643, Val Accuracy: 57.14%\n",
            "Epoch 2, Train Loss: 0.6513, Val Loss: 0.6558, Val Accuracy: 54.89%\n",
            "Epoch 3, Train Loss: 0.6347, Val Loss: 0.5939, Val Accuracy: 74.44%\n",
            "Epoch 4, Train Loss: 0.5694, Val Loss: 0.6051, Val Accuracy: 62.41%\n",
            "Epoch 5, Train Loss: 0.5781, Val Loss: 0.5502, Val Accuracy: 71.43%\n",
            "Epoch 6, Train Loss: 0.5223, Val Loss: 0.5549, Val Accuracy: 73.68%\n",
            "Epoch 7, Train Loss: 0.5205, Val Loss: 0.5059, Val Accuracy: 81.95%\n",
            "Epoch 8, Train Loss: 0.4733, Val Loss: 0.5089, Val Accuracy: 76.69%\n",
            "Epoch 9, Train Loss: 0.4778, Val Loss: 0.4644, Val Accuracy: 83.46%\n",
            "Epoch 10, Train Loss: 0.4308, Val Loss: 0.4636, Val Accuracy: 83.46%\n",
            "Epoch 11, Train Loss: 0.4329, Val Loss: 0.4322, Val Accuracy: 84.21%\n",
            "Epoch 12, Train Loss: 0.4020, Val Loss: 0.4200, Val Accuracy: 83.46%\n",
            "Epoch 13, Train Loss: 0.3811, Val Loss: 0.4155, Val Accuracy: 85.71%\n",
            "Epoch 14, Train Loss: 0.3726, Val Loss: 0.3836, Val Accuracy: 87.22%\n",
            "Epoch 15, Train Loss: 0.3377, Val Loss: 0.3818, Val Accuracy: 84.96%\n",
            "Epoch 16, Train Loss: 0.3233, Val Loss: 0.3735, Val Accuracy: 87.97%\n",
            "Epoch 17, Train Loss: 0.3115, Val Loss: 0.3535, Val Accuracy: 89.47%\n",
            "Epoch 18, Train Loss: 0.2930, Val Loss: 0.3470, Val Accuracy: 86.47%\n",
            "Epoch 19, Train Loss: 0.2916, Val Loss: 0.3345, Val Accuracy: 89.47%\n",
            "Epoch 20, Train Loss: 0.2666, Val Loss: 0.3298, Val Accuracy: 89.47%\n",
            "Epoch 21, Train Loss: 0.2742, Val Loss: 0.3189, Val Accuracy: 85.71%\n",
            "Epoch 22, Train Loss: 0.2797, Val Loss: 0.2976, Val Accuracy: 90.23%\n",
            "Epoch 23, Train Loss: 0.2387, Val Loss: 0.3135, Val Accuracy: 87.97%\n",
            "Epoch 24, Train Loss: 0.2310, Val Loss: 0.2815, Val Accuracy: 89.47%\n",
            "Epoch 25, Train Loss: 0.2099, Val Loss: 0.2684, Val Accuracy: 90.23%\n",
            "Epoch 26, Train Loss: 0.2092, Val Loss: 0.2910, Val Accuracy: 87.97%\n",
            "Epoch 27, Train Loss: 0.2110, Val Loss: 0.2574, Val Accuracy: 89.47%\n",
            "Epoch 28, Train Loss: 0.1942, Val Loss: 0.2539, Val Accuracy: 89.47%\n",
            "Epoch 29, Train Loss: 0.1874, Val Loss: 0.2751, Val Accuracy: 87.97%\n",
            "Epoch 30, Train Loss: 0.1811, Val Loss: 0.2514, Val Accuracy: 90.23%\n",
            "\n",
            "Fold 2/5\n",
            "Epoch 1, Train Loss: 0.1819, Val Loss: 0.1951, Val Accuracy: 88.72%\n",
            "Epoch 2, Train Loss: 0.2292, Val Loss: 0.1485, Val Accuracy: 93.98%\n",
            "Epoch 3, Train Loss: 0.1846, Val Loss: 0.1453, Val Accuracy: 93.98%\n",
            "Epoch 4, Train Loss: 0.1695, Val Loss: 0.1671, Val Accuracy: 91.73%\n",
            "Epoch 5, Train Loss: 0.1803, Val Loss: 0.1432, Val Accuracy: 93.98%\n",
            "Epoch 6, Train Loss: 0.1746, Val Loss: 0.1448, Val Accuracy: 93.23%\n",
            "Epoch 7, Train Loss: 0.1497, Val Loss: 0.1487, Val Accuracy: 93.98%\n",
            "Epoch 8, Train Loss: 0.1327, Val Loss: 0.1572, Val Accuracy: 93.23%\n",
            "Epoch 9, Train Loss: 0.1509, Val Loss: 0.1541, Val Accuracy: 92.48%\n",
            "Epoch 10, Train Loss: 0.1620, Val Loss: 0.1775, Val Accuracy: 92.48%\n",
            "Epoch 11, Train Loss: 0.1520, Val Loss: 0.1395, Val Accuracy: 94.74%\n",
            "Epoch 12, Train Loss: 0.1310, Val Loss: 0.1421, Val Accuracy: 93.23%\n",
            "Epoch 13, Train Loss: 0.1360, Val Loss: 0.1604, Val Accuracy: 92.48%\n",
            "Epoch 14, Train Loss: 0.1335, Val Loss: 0.1302, Val Accuracy: 95.49%\n",
            "Epoch 15, Train Loss: 0.1135, Val Loss: 0.1248, Val Accuracy: 93.98%\n",
            "Epoch 16, Train Loss: 0.1136, Val Loss: 0.1391, Val Accuracy: 92.48%\n",
            "Epoch 17, Train Loss: 0.1114, Val Loss: 0.1231, Val Accuracy: 94.74%\n",
            "Epoch 18, Train Loss: 0.1249, Val Loss: 0.1221, Val Accuracy: 94.74%\n",
            "Epoch 19, Train Loss: 0.1065, Val Loss: 0.1180, Val Accuracy: 95.49%\n",
            "Epoch 20, Train Loss: 0.1030, Val Loss: 0.1160, Val Accuracy: 95.49%\n",
            "Epoch 21, Train Loss: 0.0971, Val Loss: 0.1153, Val Accuracy: 94.74%\n",
            "Epoch 22, Train Loss: 0.0867, Val Loss: 0.1137, Val Accuracy: 95.49%\n",
            "Epoch 23, Train Loss: 0.0939, Val Loss: 0.1190, Val Accuracy: 95.49%\n",
            "Epoch 24, Train Loss: 0.0890, Val Loss: 0.1121, Val Accuracy: 95.49%\n",
            "Epoch 25, Train Loss: 0.0932, Val Loss: 0.1128, Val Accuracy: 94.74%\n",
            "Epoch 26, Train Loss: 0.0786, Val Loss: 0.1193, Val Accuracy: 96.24%\n",
            "Epoch 27, Train Loss: 0.0778, Val Loss: 0.1156, Val Accuracy: 94.74%\n",
            "Epoch 28, Train Loss: 0.0752, Val Loss: 0.1112, Val Accuracy: 93.98%\n",
            "Epoch 29, Train Loss: 0.0874, Val Loss: 0.1498, Val Accuracy: 93.98%\n",
            "Epoch 30, Train Loss: 0.0892, Val Loss: 0.1312, Val Accuracy: 92.48%\n",
            "\n",
            "Fold 3/5\n",
            "Epoch 1, Train Loss: 0.1327, Val Loss: 0.0423, Val Accuracy: 99.25%\n",
            "Epoch 2, Train Loss: 0.1049, Val Loss: 0.0290, Val Accuracy: 100.00%\n",
            "Epoch 3, Train Loss: 0.0913, Val Loss: 0.0281, Val Accuracy: 100.00%\n",
            "Epoch 4, Train Loss: 0.0791, Val Loss: 0.0294, Val Accuracy: 100.00%\n",
            "Epoch 5, Train Loss: 0.0865, Val Loss: 0.0331, Val Accuracy: 100.00%\n",
            "Epoch 6, Train Loss: 0.0812, Val Loss: 0.0348, Val Accuracy: 99.25%\n",
            "Epoch 7, Train Loss: 0.0838, Val Loss: 0.0334, Val Accuracy: 100.00%\n",
            "Epoch 8, Train Loss: 0.0854, Val Loss: 0.0337, Val Accuracy: 99.25%\n",
            "Epoch 9, Train Loss: 0.0816, Val Loss: 0.0308, Val Accuracy: 100.00%\n",
            "Epoch 10, Train Loss: 0.0769, Val Loss: 0.0427, Val Accuracy: 98.50%\n",
            "Epoch 11, Train Loss: 0.0746, Val Loss: 0.0461, Val Accuracy: 98.50%\n",
            "Epoch 12, Train Loss: 0.0848, Val Loss: 0.0363, Val Accuracy: 99.25%\n",
            "Epoch 13, Train Loss: 0.0681, Val Loss: 0.0331, Val Accuracy: 100.00%\n",
            "Epoch 14, Train Loss: 0.0652, Val Loss: 0.0413, Val Accuracy: 99.25%\n",
            "Epoch 15, Train Loss: 0.0796, Val Loss: 0.0647, Val Accuracy: 96.24%\n",
            "Epoch 16, Train Loss: 0.0830, Val Loss: 0.0334, Val Accuracy: 99.25%\n",
            "Epoch 17, Train Loss: 0.0607, Val Loss: 0.0276, Val Accuracy: 100.00%\n",
            "Epoch 18, Train Loss: 0.0664, Val Loss: 0.0392, Val Accuracy: 99.25%\n",
            "Epoch 19, Train Loss: 0.0692, Val Loss: 0.0284, Val Accuracy: 100.00%\n",
            "Epoch 20, Train Loss: 0.0625, Val Loss: 0.0231, Val Accuracy: 100.00%\n",
            "Epoch 21, Train Loss: 0.0487, Val Loss: 0.0344, Val Accuracy: 99.25%\n",
            "Epoch 22, Train Loss: 0.0636, Val Loss: 0.0309, Val Accuracy: 100.00%\n",
            "Epoch 23, Train Loss: 0.0635, Val Loss: 0.0231, Val Accuracy: 99.25%\n",
            "Epoch 24, Train Loss: 0.0498, Val Loss: 0.0305, Val Accuracy: 99.25%\n",
            "Epoch 25, Train Loss: 0.0590, Val Loss: 0.0415, Val Accuracy: 98.50%\n",
            "Epoch 26, Train Loss: 0.0880, Val Loss: 0.0458, Val Accuracy: 99.25%\n",
            "Epoch 27, Train Loss: 0.0736, Val Loss: 0.0218, Val Accuracy: 99.25%\n",
            "Epoch 28, Train Loss: 0.0527, Val Loss: 0.0240, Val Accuracy: 100.00%\n",
            "Epoch 29, Train Loss: 0.0471, Val Loss: 0.0271, Val Accuracy: 99.25%\n",
            "Epoch 30, Train Loss: 0.0508, Val Loss: 0.0254, Val Accuracy: 99.25%\n",
            "\n",
            "Fold 4/5\n",
            "Epoch 1, Train Loss: 0.0419, Val Loss: 0.0282, Val Accuracy: 99.25%\n",
            "Epoch 2, Train Loss: 0.0378, Val Loss: 0.0291, Val Accuracy: 100.00%\n",
            "Epoch 3, Train Loss: 0.0386, Val Loss: 0.0310, Val Accuracy: 100.00%\n",
            "Epoch 4, Train Loss: 0.0345, Val Loss: 0.0345, Val Accuracy: 100.00%\n",
            "Epoch 5, Train Loss: 0.0361, Val Loss: 0.0315, Val Accuracy: 100.00%\n",
            "Epoch 6, Train Loss: 0.0368, Val Loss: 0.0326, Val Accuracy: 100.00%\n",
            "Epoch 7, Train Loss: 0.0373, Val Loss: 0.0336, Val Accuracy: 100.00%\n",
            "Epoch 8, Train Loss: 0.0285, Val Loss: 0.0323, Val Accuracy: 99.25%\n",
            "Epoch 9, Train Loss: 0.0389, Val Loss: 0.0320, Val Accuracy: 100.00%\n",
            "Epoch 10, Train Loss: 0.0359, Val Loss: 0.0335, Val Accuracy: 100.00%\n",
            "Epoch 11, Train Loss: 0.0382, Val Loss: 0.0329, Val Accuracy: 99.25%\n",
            "Epoch 12, Train Loss: 0.0326, Val Loss: 0.0340, Val Accuracy: 99.25%\n",
            "Epoch 13, Train Loss: 0.0352, Val Loss: 0.0353, Val Accuracy: 100.00%\n",
            "Epoch 14, Train Loss: 0.0248, Val Loss: 0.0331, Val Accuracy: 99.25%\n",
            "Epoch 15, Train Loss: 0.0215, Val Loss: 0.0328, Val Accuracy: 98.50%\n",
            "Epoch 16, Train Loss: 0.0385, Val Loss: 0.0351, Val Accuracy: 99.25%\n",
            "Epoch 17, Train Loss: 0.0320, Val Loss: 0.0332, Val Accuracy: 99.25%\n",
            "Epoch 18, Train Loss: 0.0355, Val Loss: 0.0400, Val Accuracy: 99.25%\n",
            "Epoch 19, Train Loss: 0.0304, Val Loss: 0.0545, Val Accuracy: 97.74%\n",
            "Epoch 20, Train Loss: 0.0458, Val Loss: 0.0290, Val Accuracy: 99.25%\n",
            "Epoch 21, Train Loss: 0.0248, Val Loss: 0.0428, Val Accuracy: 98.50%\n",
            "Epoch 22, Train Loss: 0.0371, Val Loss: 0.0349, Val Accuracy: 99.25%\n",
            "Epoch 23, Train Loss: 0.0365, Val Loss: 0.0216, Val Accuracy: 100.00%\n",
            "Epoch 24, Train Loss: 0.0218, Val Loss: 0.0347, Val Accuracy: 99.25%\n",
            "Epoch 25, Train Loss: 0.0340, Val Loss: 0.0249, Val Accuracy: 99.25%\n",
            "Epoch 26, Train Loss: 0.0358, Val Loss: 0.0237, Val Accuracy: 99.25%\n",
            "Epoch 27, Train Loss: 0.0295, Val Loss: 0.0296, Val Accuracy: 99.25%\n",
            "Epoch 28, Train Loss: 0.0244, Val Loss: 0.0265, Val Accuracy: 99.25%\n",
            "Epoch 29, Train Loss: 0.0177, Val Loss: 0.0329, Val Accuracy: 99.25%\n",
            "Epoch 30, Train Loss: 0.0262, Val Loss: 0.0334, Val Accuracy: 98.50%\n",
            "\n",
            "Fold 5/5\n",
            "Epoch 1, Train Loss: 0.0348, Val Loss: 0.0114, Val Accuracy: 100.00%\n",
            "Epoch 2, Train Loss: 0.0276, Val Loss: 0.0241, Val Accuracy: 99.24%\n",
            "Epoch 3, Train Loss: 0.0262, Val Loss: 0.0113, Val Accuracy: 100.00%\n",
            "Epoch 4, Train Loss: 0.0261, Val Loss: 0.0108, Val Accuracy: 100.00%\n",
            "Epoch 5, Train Loss: 0.0307, Val Loss: 0.0362, Val Accuracy: 99.24%\n",
            "Epoch 6, Train Loss: 0.0658, Val Loss: 0.0381, Val Accuracy: 100.00%\n",
            "Epoch 7, Train Loss: 0.0971, Val Loss: 0.0369, Val Accuracy: 99.24%\n",
            "Epoch 8, Train Loss: 0.0850, Val Loss: 0.0077, Val Accuracy: 100.00%\n",
            "Epoch 9, Train Loss: 0.0379, Val Loss: 0.0090, Val Accuracy: 100.00%\n",
            "Epoch 10, Train Loss: 0.0463, Val Loss: 0.0297, Val Accuracy: 99.24%\n",
            "Epoch 11, Train Loss: 0.0407, Val Loss: 0.0134, Val Accuracy: 99.24%\n",
            "Epoch 12, Train Loss: 0.0326, Val Loss: 0.0159, Val Accuracy: 100.00%\n",
            "Epoch 13, Train Loss: 0.0397, Val Loss: 0.0118, Val Accuracy: 100.00%\n",
            "Epoch 14, Train Loss: 0.0269, Val Loss: 0.0226, Val Accuracy: 99.24%\n",
            "Epoch 15, Train Loss: 0.0445, Val Loss: 0.0150, Val Accuracy: 100.00%\n",
            "Epoch 16, Train Loss: 0.0405, Val Loss: 0.0099, Val Accuracy: 100.00%\n",
            "Epoch 17, Train Loss: 0.0275, Val Loss: 0.0174, Val Accuracy: 99.24%\n",
            "Epoch 18, Train Loss: 0.0323, Val Loss: 0.0090, Val Accuracy: 100.00%\n",
            "Epoch 19, Train Loss: 0.0277, Val Loss: 0.0089, Val Accuracy: 100.00%\n",
            "Epoch 20, Train Loss: 0.0346, Val Loss: 0.0201, Val Accuracy: 99.24%\n",
            "Epoch 21, Train Loss: 0.0334, Val Loss: 0.0098, Val Accuracy: 100.00%\n",
            "Epoch 22, Train Loss: 0.0270, Val Loss: 0.0103, Val Accuracy: 100.00%\n",
            "Epoch 23, Train Loss: 0.0301, Val Loss: 0.0143, Val Accuracy: 99.24%\n",
            "Epoch 24, Train Loss: 0.0269, Val Loss: 0.0103, Val Accuracy: 100.00%\n",
            "Epoch 25, Train Loss: 0.0210, Val Loss: 0.0094, Val Accuracy: 100.00%\n",
            "Epoch 26, Train Loss: 0.0330, Val Loss: 0.0165, Val Accuracy: 99.24%\n",
            "Epoch 27, Train Loss: 0.0264, Val Loss: 0.0115, Val Accuracy: 99.24%\n",
            "Epoch 28, Train Loss: 0.0238, Val Loss: 0.0082, Val Accuracy: 100.00%\n",
            "Epoch 29, Train Loss: 0.0255, Val Loss: 0.0081, Val Accuracy: 100.00%\n",
            "Epoch 30, Train Loss: 0.0184, Val Loss: 0.0146, Val Accuracy: 99.24%\n"
          ]
        }
      ],
      "source": [
        "import torch\n",
        "import torch.nn as nn\n",
        "import torch.optim as optim\n",
        "from sklearn.model_selection import StratifiedKFold\n",
        "from sklearn.metrics import classification_report, confusion_matrix, precision_recall_fscore_support\n",
        "import numpy as np\n",
        "import random\n",
        "import torchaudio\n",
        "from speechbrain.inference.speaker import EncoderClassifier\n",
        "\n",
        "# Assuming you already have preprocessed features (X-vectors) for training\n",
        "X = np.load(f\"{base}/xvec_train.npy\")  # Load the training X-vectors\n",
        "y = np.load(f\"{base}/y_train.npy\")  # Load the training labels\n",
        "X = torch.tensor(X, dtype=torch.float32)\n",
        "y = torch.tensor(y, dtype=torch.long)\n",
        "\n",
        "# Define an improved LSTM-based model for classification\n",
        "class XvectorLSTMClassifier(nn.Module):\n",
        "    def __init__(self, input_dim, hidden_dim, output_dim=2, dropout=0.5):\n",
        "        super(XvectorLSTMClassifier, self).__init__()\n",
        "        self.lstm = nn.LSTM(input_dim, hidden_dim, batch_first=True, bidirectional=True)  # Bidirectional LSTM\n",
        "        self.fc1 = nn.Linear(hidden_dim * 2, 128)  # Adjusted for bidirectional LSTM\n",
        "        self.fc2 = nn.Linear(128, output_dim)\n",
        "        self.dropout = nn.Dropout(dropout)\n",
        "\n",
        "    def forward(self, x):\n",
        "        x = x.unsqueeze(1)  # Now x has shape (batch_size, 1, input_dim)\n",
        "        lstm_out, _ = self.lstm(x)\n",
        "        last_hidden_state = lstm_out[:, -1, :]\n",
        "        out = self.fc1(self.dropout(last_hidden_state))\n",
        "        out = self.fc2(self.dropout(out))\n",
        "        return out\n",
        "\n",
        "# Hyperparameters\n",
        "input_dim = X.shape[1]  # The size of the input (dimension of X-vectors)\n",
        "hidden_dim = 512  # Increased size of LSTM hidden state\n",
        "dropout = 0.5  # Increased dropout to prevent overfitting\n",
        "\n",
        "# Initialize model, criterion, and optimizer\n",
        "DEVICE = torch.device(\"cuda\" if torch.cuda.is_available() else \"cpu\")\n",
        "model = XvectorLSTMClassifier(input_dim, hidden_dim, dropout=dropout).to(DEVICE)\n",
        "criterion = nn.CrossEntropyLoss()\n",
        "optimizer = optim.Adam(model.parameters(), lr=0.0005)\n",
        "\n",
        "# K-Fold Cross Validation\n",
        "k_folds = 5\n",
        "skf = StratifiedKFold(n_splits=k_folds, shuffle=True, random_state=42)\n",
        "all_preds, all_targets = [], []\n",
        "\n",
        "for fold, (train_idx, test_idx) in enumerate(skf.split(X, y), 1):\n",
        "    print(f\"\\nFold {fold}/{k_folds}\")\n",
        "    X_train, X_test = X[train_idx], X[test_idx]\n",
        "    y_train, y_test = y[train_idx], y[test_idx]\n",
        "\n",
        "    # Training loop with noise\n",
        "    for epoch in range(30):\n",
        "        model.train()\n",
        "        optimizer.zero_grad()\n",
        "        outputs = model(X_train)\n",
        "        loss = criterion(outputs, y_train)\n",
        "        loss.backward()\n",
        "        optimizer.step()\n",
        "\n",
        "        # Validation\n",
        "        model.eval()\n",
        "        with torch.no_grad():\n",
        "            val_outputs = model(X_test)\n",
        "            val_loss = criterion(val_outputs, y_test)\n",
        "            val_pred = torch.argmax(val_outputs, dim=1)\n",
        "            val_acc = (val_pred == y_test).float().mean()\n",
        "        print(f\"Epoch {epoch+1}, Train Loss: {loss.item():.4f}, Val Loss: {val_loss.item():.4f}, Val Accuracy: {val_acc.item()*100:.2f}%\")\n",
        "\n",
        "    # Store predictions and targets for metrics\n",
        "    model.eval()\n",
        "    with torch.no_grad():\n",
        "        preds = torch.argmax(model(X_test), dim=1)\n",
        "        all_preds.extend(preds.numpy())\n",
        "        all_targets.extend(y_test.numpy())"
      ]
    },
    {
      "cell_type": "code",
      "source": [
        "# Evaluate model using classification report and confusion matrix\n",
        "print(\"\\nClassification Report:\")\n",
        "print(classification_report(all_targets, all_preds, target_names=[\"HC\", \"PD\"]))\n",
        "\n",
        "print(\"Confusion Matrix:\")\n",
        "cm = confusion_matrix(all_targets, all_preds)\n",
        "print(cm)\n",
        "\n",
        "# Precision, Recall, and F1 Score\n",
        "precision, recall, f1, _ = precision_recall_fscore_support(all_targets, all_preds, average='binary')\n",
        "print(f\"Precision: {precision:.4f}\")\n",
        "print(f\"Recall: {recall:.4f}\")\n",
        "print(f\"F1 Score: {f1:.4f}\")"
      ],
      "metadata": {
        "colab": {
          "base_uri": "https://localhost:8080/"
        },
        "id": "WyLlGiKEA4Ip",
        "outputId": "52797a95-1589-46f2-8250-3a6d3a5c9944"
      },
      "execution_count": null,
      "outputs": [
        {
          "output_type": "stream",
          "name": "stdout",
          "text": [
            "\n",
            "Classification Report:\n",
            "              precision    recall  f1-score   support\n",
            "\n",
            "          HC       0.95      0.97      0.96       315\n",
            "          PD       0.97      0.95      0.96       349\n",
            "\n",
            "    accuracy                           0.96       664\n",
            "   macro avg       0.96      0.96      0.96       664\n",
            "weighted avg       0.96      0.96      0.96       664\n",
            "\n",
            "Confusion Matrix:\n",
            "[[304  11]\n",
            " [ 16 333]]\n",
            "Precision: 0.9680\n",
            "Recall: 0.9542\n",
            "F1 Score: 0.9610\n"
          ]
        }
      ]
    },
    {
      "cell_type": "code",
      "source": [
        "from sklearn.metrics import roc_curve, auc\n",
        "import matplotlib.pyplot as plt\n",
        "fpr, tpr, _ = roc_curve(all_targets, all_preds)\n",
        "roc_auc = auc(fpr, tpr)\n",
        "\n",
        "plt.figure(figsize=(6, 5))\n",
        "plt.plot(fpr, tpr, color='darkorange', lw=2, label=f'ROC curve (AUC = {roc_auc:.2f})')\n",
        "plt.plot([0, 1], [0, 1], color='navy', lw=2, linestyle='--')\n",
        "plt.xlabel('False Positive Rate')\n",
        "plt.ylabel('True Positive Rate (Recall)')\n",
        "plt.title('Receiver Operating Characteristic (ROC) Curve')\n",
        "plt.legend(loc=\"lower right\")\n",
        "plt.show()"
      ],
      "metadata": {
        "colab": {
          "base_uri": "https://localhost:8080/",
          "height": 487
        },
        "id": "fV1ufNrEKL05",
        "outputId": "92abcdfd-ddaf-4656-f4b8-d6d57d33e6c2"
      },
      "execution_count": null,
      "outputs": [
        {
          "output_type": "display_data",
          "data": {
            "text/plain": [
              "<Figure size 600x500 with 1 Axes>"
            ],
            "image/png": "[encoded data removed]"
          },
          "metadata": {}
        }
      ]
    },
    {
      "cell_type": "code",
      "source": [
        "from sklearn.metrics import precision_recall_curve\n",
        "\n",
        "# Use predicted probabilities for class 'PD' here\n",
        "# precision_vals, recall_vals, _ = precision_recall_curve(all_targets, all_probabilities)\n",
        "precision_vals, recall_vals, _ = precision_recall_curve(all_targets, all_preds)\n",
        "\n",
        "plt.figure(figsize=(6, 5))\n",
        "plt.plot(recall_vals, precision_vals, color='blue', lw=2)\n",
        "plt.xlabel('Recall')\n",
        "plt.ylabel('Precision')\n",
        "plt.title('Precision-Recall Curve')\n",
        "plt.show()\n"
      ],
      "metadata": {
        "colab": {
          "base_uri": "https://localhost:8080/",
          "height": 487
        },
        "id": "NEfBZ0tFKV1e",
        "outputId": "29d8fd2d-5315-42e8-c193-848e55b6781c"
      },
      "execution_count": null,
      "outputs": [
        {
          "output_type": "display_data",
          "data": {
            "text/plain": [
              "<Figure size 600x500 with 1 Axes>"
            ],
            "image/png": "[encoded data removed]"
          },
          "metadata": {}
        }
      ]
    },
    {
      "cell_type": "code",
      "source": [
        "import seaborn as sns\n",
        "\n",
        "plt.figure(figsize=(4, 3))\n",
        "sns.heatmap(cm, annot=True, fmt='d', cmap='Blues', xticklabels=[\"HC\", \"PD\"], yticklabels=[\"HC\", \"PD\"])\n",
        "plt.xlabel('Predicted Label')\n",
        "plt.ylabel('True Label')\n",
        "plt.title('Confusion Matrix')\n",
        "plt.show()\n"
      ],
      "metadata": {
        "colab": {
          "base_uri": "https://localhost:8080/",
          "height": 333
        },
        "id": "jrI_GH9-KYN2",
        "outputId": "b401240b-3f05-43f2-a74d-5e6cc201aa21"
      },
      "execution_count": null,
      "outputs": [
        {
          "output_type": "display_data",
          "data": {
            "text/plain": [
              "<Figure size 400x300 with 2 Axes>"
            ],
            "image/png": "[encoded data removed]"
          },
          "metadata": {}
        }
      ]
    }
  ]
}