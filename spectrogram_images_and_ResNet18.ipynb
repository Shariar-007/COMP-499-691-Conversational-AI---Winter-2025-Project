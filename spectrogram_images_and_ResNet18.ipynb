{
  "nbformat": 4,
  "nbformat_minor": 0,
  "metadata": {
    "colab": {
      "provenance": [],
      "gpuType": "T4",
      "machine_shape": "hm"
    },
    "kernelspec": {
      "name": "python3",
      "display_name": "Python 3"
    },
    "language_info": {
      "name": "python"
    },
    "accelerator": "GPU",
    "widgets": {
      "application/vnd.jupyter.widget-state+json": {
        "206aad6126844ee886667cf42b378310": {
          "model_module": "@jupyter-widgets/controls",
          "model_name": "HBoxModel",
          "model_module_version": "1.5.0",
          "state": {
            "_dom_classes": [],
            "_model_module": "@jupyter-widgets/controls",
            "_model_module_version": "1.5.0",
            "_model_name": "HBoxModel",
            "_view_count": null,
            "_view_module": "@jupyter-widgets/controls",
            "_view_module_version": "1.5.0",
            "_view_name": "HBoxView",
            "box_style": "",
            "children": [
              "IPY_MODEL_9f3ec1fa271647bf90109ee187bdc1ba",
              "IPY_MODEL_f8e0b4bfcd04433493256a8d9a464758",
              "IPY_MODEL_35a75f2476c74538b6ce127e83c60333"
            ],
            "layout": "IPY_MODEL_edbb57705d1547219e9290777f16527f"
          }
        },
        "9f3ec1fa271647bf90109ee187bdc1ba": {
          "model_module": "@jupyter-widgets/controls",
          "model_name": "HTMLModel",
          "model_module_version": "1.5.0",
          "state": {
            "_dom_classes": [],
            "_model_module": "@jupyter-widgets/controls",
            "_model_module_version": "1.5.0",
            "_model_name": "HTMLModel",
            "_view_count": null,
            "_view_module": "@jupyter-widgets/controls",
            "_view_module_version": "1.5.0",
            "_view_name": "HTMLView",
            "description": "",
            "description_tooltip": null,
            "layout": "IPY_MODEL_360af81c6f2946e0bf7a88885bd3f0b9",
            "placeholder": "​",
            "style": "IPY_MODEL_0cdb3cf50c044fa3b5e1088ec0f76fdb",
            "value": "Resolving data files: 100%"
          }
        },
        "f8e0b4bfcd04433493256a8d9a464758": {
          "model_module": "@jupyter-widgets/controls",
          "model_name": "FloatProgressModel",
          "model_module_version": "1.5.0",
          "state": {
            "_dom_classes": [],
            "_model_module": "@jupyter-widgets/controls",
            "_model_module_version": "1.5.0",
            "_model_name": "FloatProgressModel",
            "_view_count": null,
            "_view_module": "@jupyter-widgets/controls",
            "_view_module_version": "1.5.0",
            "_view_name": "ProgressView",
            "bar_style": "success",
            "description": "",
            "description_tooltip": null,
            "layout": "IPY_MODEL_8ce54ef34c6842b785d0b869fe910da5",
            "max": 833,
            "min": 0,
            "orientation": "horizontal",
            "style": "IPY_MODEL_4ae6cf2c0d2a4b29aa435057cdf58e64",
            "value": 833
          }
        },
        "35a75f2476c74538b6ce127e83c60333": {
          "model_module": "@jupyter-widgets/controls",
          "model_name": "HTMLModel",
          "model_module_version": "1.5.0",
          "state": {
            "_dom_classes": [],
            "_model_module": "@jupyter-widgets/controls",
            "_model_module_version": "1.5.0",
            "_model_name": "HTMLModel",
            "_view_count": null,
            "_view_module": "@jupyter-widgets/controls",
            "_view_module_version": "1.5.0",
            "_view_name": "HTMLView",
            "description": "",
            "description_tooltip": null,
            "layout": "IPY_MODEL_758819fa64d247da94e96b3bea7febee",
            "placeholder": "​",
            "style": "IPY_MODEL_e62abb03aa2246d9b51e967fd13721ac",
            "value": " 833/833 [00:00&lt;00:00, 18327.94it/s]"
          }
        },
        "edbb57705d1547219e9290777f16527f": {
          "model_module": "@jupyter-widgets/base",
          "model_name": "LayoutModel",
          "model_module_version": "1.2.0",
          "state": {
            "_model_module": "@jupyter-widgets/base",
            "_model_module_version": "1.2.0",
            "_model_name": "LayoutModel",
            "_view_count": null,
            "_view_module": "@jupyter-widgets/base",
            "_view_module_version": "1.2.0",
            "_view_name": "LayoutView",
            "align_content": null,
            "align_items": null,
            "align_self": null,
            "border": null,
            "bottom": null,
            "display": null,
            "flex": null,
            "flex_flow": null,
            "grid_area": null,
            "grid_auto_columns": null,
            "grid_auto_flow": null,
            "grid_auto_rows": null,
            "grid_column": null,
            "grid_gap": null,
            "grid_row": null,
            "grid_template_areas": null,
            "grid_template_columns": null,
            "grid_template_rows": null,
            "height": null,
            "justify_content": null,
            "justify_items": null,
            "left": null,
            "margin": null,
            "max_height": null,
            "max_width": null,
            "min_height": null,
            "min_width": null,
            "object_fit": null,
            "object_position": null,
            "order": null,
            "overflow": null,
            "overflow_x": null,
            "overflow_y": null,
            "padding": null,
            "right": null,
            "top": null,
            "visibility": null,
            "width": null
          }
        },
        "360af81c6f2946e0bf7a88885bd3f0b9": {
          "model_module": "@jupyter-widgets/base",
          "model_name": "LayoutModel",
          "model_module_version": "1.2.0",
          "state": {
            "_model_module": "@jupyter-widgets/base",
            "_model_module_version": "1.2.0",
            "_model_name": "LayoutModel",
            "_view_count": null,
            "_view_module": "@jupyter-widgets/base",
            "_view_module_version": "1.2.0",
            "_view_name": "LayoutView",
            "align_content": null,
            "align_items": null,
            "align_self": null,
            "border": null,
            "bottom": null,
            "display": null,
            "flex": null,
            "flex_flow": null,
            "grid_area": null,
            "grid_auto_columns": null,
            "grid_auto_flow": null,
            "grid_auto_rows": null,
            "grid_column": null,
            "grid_gap": null,
            "grid_row": null,
            "grid_template_areas": null,
            "grid_template_columns": null,
            "grid_template_rows": null,
            "height": null,
            "justify_content": null,
            "justify_items": null,
            "left": null,
            "margin": null,
            "max_height": null,
            "max_width": null,
            "min_height": null,
            "min_width": null,
            "object_fit": null,
            "object_position": null,
            "order": null,
            "overflow": null,
            "overflow_x": null,
            "overflow_y": null,
            "padding": null,
            "right": null,
            "top": null,
            "visibility": null,
            "width": null
          }
        },
        "0cdb3cf50c044fa3b5e1088ec0f76fdb": {
          "model_module": "@jupyter-widgets/controls",
          "model_name": "DescriptionStyleModel",
          "model_module_version": "1.5.0",
          "state": {
            "_model_module": "@jupyter-widgets/controls",
            "_model_module_version": "1.5.0",
            "_model_name": "DescriptionStyleModel",
            "_view_count": null,
            "_view_module": "@jupyter-widgets/base",
            "_view_module_version": "1.2.0",
            "_view_name": "StyleView",
            "description_width": ""
          }
        },
        "8ce54ef34c6842b785d0b869fe910da5": {
          "model_module": "@jupyter-widgets/base",
          "model_name": "LayoutModel",
          "model_module_version": "1.2.0",
          "state": {
            "_model_module": "@jupyter-widgets/base",
            "_model_module_version": "1.2.0",
            "_model_name": "LayoutModel",
            "_view_count": null,
            "_view_module": "@jupyter-widgets/base",
            "_view_module_version": "1.2.0",
            "_view_name": "LayoutView",
            "align_content": null,
            "align_items": null,
            "align_self": null,
            "border": null,
            "bottom": null,
            "display": null,
            "flex": null,
            "flex_flow": null,
            "grid_area": null,
            "grid_auto_columns": null,
            "grid_auto_flow": null,
            "grid_auto_rows": null,
            "grid_column": null,
            "grid_gap": null,
            "grid_row": null,
            "grid_template_areas": null,
            "grid_template_columns": null,
            "grid_template_rows": null,
            "height": null,
            "justify_content": null,
            "justify_items": null,
            "left": null,
            "margin": null,
            "max_height": null,
            "max_width": null,
            "min_height": null,
            "min_width": null,
            "object_fit": null,
            "object_position": null,
            "order": null,
            "overflow": null,
            "overflow_x": null,
            "overflow_y": null,
            "padding": null,
            "right": null,
            "top": null,
            "visibility": null,
            "width": null
          }
        },
        "4ae6cf2c0d2a4b29aa435057cdf58e64": {
          "model_module": "@jupyter-widgets/controls",
          "model_name": "ProgressStyleModel",
          "model_module_version": "1.5.0",
          "state": {
            "_model_module": "@jupyter-widgets/controls",
            "_model_module_version": "1.5.0",
            "_model_name": "ProgressStyleModel",
            "_view_count": null,
            "_view_module": "@jupyter-widgets/base",
            "_view_module_version": "1.2.0",
            "_view_name": "StyleView",
            "bar_color": null,
            "description_width": ""
          }
        },
        "758819fa64d247da94e96b3bea7febee": {
          "model_module": "@jupyter-widgets/base",
          "model_name": "LayoutModel",
          "model_module_version": "1.2.0",
          "state": {
            "_model_module": "@jupyter-widgets/base",
            "_model_module_version": "1.2.0",
            "_model_name": "LayoutModel",
            "_view_count": null,
            "_view_module": "@jupyter-widgets/base",
            "_view_module_version": "1.2.0",
            "_view_name": "LayoutView",
            "align_content": null,
            "align_items": null,
            "align_self": null,
            "border": null,
            "bottom": null,
            "display": null,
            "flex": null,
            "flex_flow": null,
            "grid_area": null,
            "grid_auto_columns": null,
            "grid_auto_flow": null,
            "grid_auto_rows": null,
            "grid_column": null,
            "grid_gap": null,
            "grid_row": null,
            "grid_template_areas": null,
            "grid_template_columns": null,
            "grid_template_rows": null,
            "height": null,
            "justify_content": null,
            "justify_items": null,
            "left": null,
            "margin": null,
            "max_height": null,
            "max_width": null,
            "min_height": null,
            "min_width": null,
            "object_fit": null,
            "object_position": null,
            "order": null,
            "overflow": null,
            "overflow_x": null,
            "overflow_y": null,
            "padding": null,
            "right": null,
            "top": null,
            "visibility": null,
            "width": null
          }
        },
        "e62abb03aa2246d9b51e967fd13721ac": {
          "model_module": "@jupyter-widgets/controls",
          "model_name": "DescriptionStyleModel",
          "model_module_version": "1.5.0",
          "state": {
            "_model_module": "@jupyter-widgets/controls",
            "_model_module_version": "1.5.0",
            "_model_name": "DescriptionStyleModel",
            "_view_count": null,
            "_view_module": "@jupyter-widgets/base",
            "_view_module_version": "1.2.0",
            "_view_name": "StyleView",
            "description_width": ""
          }
        }
      }
    }
  },
  "cells": [
    {
      "cell_type": "markdown",
      "source": [
        "# Deep learning pipeline for Parkinson’s disease detection using spectrogram images and ResNet18 as a classifier with audio augmentation"
      ],
      "metadata": {
        "id": "Dc_gHURUZWWV"
      }
    },
    {
      "cell_type": "code",
      "execution_count": 24,
      "metadata": {
        "id": "ThoBj0Nh4RYK",
        "collapsed": true
      },
      "outputs": [],
      "source": [
        "# Step 1: Install dependencies\n",
        "!pip install torchaudio librosa datasets torchvision --quiet"
      ]
    },
    {
      "cell_type": "code",
      "source": [
        "# Step 2: Import libraries\n",
        "import os\n",
        "import torch\n",
        "import torchaudio\n",
        "import librosa\n",
        "import numpy as np\n",
        "import matplotlib.pyplot as plt\n",
        "from torchvision import models, transforms\n",
        "from torch.utils.data import Dataset, DataLoader\n",
        "from datasets import load_dataset\n",
        "from PIL import Image\n",
        "from sklearn.model_selection import StratifiedKFold, GroupKFold\n",
        "from collections import Counter\n",
        "import random\n",
        "import time"
      ],
      "metadata": {
        "id": "grccndRzXpd9"
      },
      "execution_count": 25,
      "outputs": []
    },
    {
      "cell_type": "code",
      "source": [
        "# Step 3: Mel spectrogram and augmentation\n",
        "def augment_audio(audio, sr):\n",
        "    noise = 0.005 * np.random.randn(len(audio))\n",
        "    audio += noise\n",
        "    audio = librosa.effects.time_stretch(audio, rate=np.random.uniform(0.9, 1.1))\n",
        "    audio = librosa.effects.pitch_shift(audio, sr=sr, n_steps=np.random.uniform(-1, 1))\n",
        "    return audio\n",
        "\n",
        "def audio_to_mel_spectrogram(audio, sr, n_mels=128):\n",
        "    S = librosa.feature.melspectrogram(y=audio, sr=sr, n_mels=n_mels)\n",
        "    S_DB = librosa.power_to_db(S, ref=np.max)\n",
        "    return S_DB"
      ],
      "metadata": {
        "id": "Lu_IVcwAshex"
      },
      "execution_count": 26,
      "outputs": []
    },
    {
      "cell_type": "code",
      "source": [
        "# Step 4: Dataset class\n",
        "class PDDataset(Dataset):\n",
        "    def __init__(self, data, indices, transform=None, augment=False):\n",
        "        self.data = [data[i] for i in indices]\n",
        "        self.transform = transform\n",
        "        self.augment = augment\n",
        "\n",
        "    def __len__(self):\n",
        "        return len(self.data)\n",
        "\n",
        "    def __getitem__(self, idx):\n",
        "        sample = self.data[idx]\n",
        "        audio = sample['audio']['array']\n",
        "        sr = sample['audio']['sampling_rate']\n",
        "        file_path = sample['audio']['path']\n",
        "        label = sample['label']\n",
        "        if self.augment:\n",
        "            audio = augment_audio(audio, sr)\n",
        "        mel_spec = audio_to_mel_spectrogram(audio, sr)\n",
        "        mel_spec = (mel_spec - mel_spec.min()) / (mel_spec.max() - mel_spec.min()) * 255\n",
        "        mel_spec = mel_spec.astype(np.uint8)\n",
        "        img = Image.fromarray(mel_spec).convert('RGB')\n",
        "        if self.transform:\n",
        "            img = self.transform(img)\n",
        "        return img, torch.tensor(label, dtype=torch.long)"
      ],
      "metadata": {
        "id": "OhRLWEjNYF0A"
      },
      "execution_count": 27,
      "outputs": []
    },
    {
      "cell_type": "code",
      "source": [
        "# Step 5: Load and preprocess dataset with grouping\n",
        "raw_dataset = load_dataset(\"birgermoell/Italian_Parkinsons_Voice_and_Speech\", split=\"train\")\n",
        "preprocessed = []\n",
        "labels = []\n",
        "groups = []   # group by speaker/session\n",
        "bad_paths = []\n",
        "\n",
        "for sample in raw_dataset:\n",
        "    path = sample['audio']['path']\n",
        "    lower_path = path.lower()\n",
        "    # Exclude non-audio files\n",
        "    if \".zip\" in lower_path or \".xlsx\" in lower_path:\n",
        "        continue\n",
        "    # Label assignment\n",
        "    if \"healthy\" in lower_path or \"control\" in lower_path or \"hc\" in lower_path:\n",
        "        label = 0\n",
        "    elif \"parkinson\" in lower_path or \"disease\" in lower_path or \"pd\" in lower_path:\n",
        "        label = 1\n",
        "    else:\n",
        "        bad_paths.append(path)\n",
        "        continue\n",
        "    # Speaker/session extraction (modify if your structure is different)\n",
        "    # Example: path = \".../Speaker1/sessionX/rec.wav\"\n",
        "    # Assuming the speaker is the first part of the file name:\n",
        "    speaker = os.path.basename(path).split('_')[0]\n",
        "    #speaker = path.split('/')[2] if len(path.split('/')) > 2 else path  # Change index if your speaker is in another part\n",
        "    preprocessed.append({'audio': sample['audio'], 'label': label, 'speaker': speaker, 'path': path})\n",
        "    labels.append(label)\n",
        "    groups.append(speaker)\n",
        "\n",
        "print(\"Label distribution:\", Counter(labels))\n",
        "if bad_paths:\n",
        "    print(\"Unrecognized/Skipped files:\")\n",
        "    for p in bad_paths:\n",
        "        print(\" \", p)\n",
        "\n",
        "transform = transforms.Compose([\n",
        "    transforms.Resize((224, 224)),\n",
        "    transforms.ToTensor(),\n",
        "    transforms.Normalize(mean=[0.5]*3, std=[0.5]*3)\n",
        "])"
      ],
      "metadata": {
        "colab": {
          "base_uri": "https://localhost:8080/",
          "height": 66,
          "referenced_widgets": [
            "206aad6126844ee886667cf42b378310",
            "9f3ec1fa271647bf90109ee187bdc1ba",
            "f8e0b4bfcd04433493256a8d9a464758",
            "35a75f2476c74538b6ce127e83c60333",
            "edbb57705d1547219e9290777f16527f",
            "360af81c6f2946e0bf7a88885bd3f0b9",
            "0cdb3cf50c044fa3b5e1088ec0f76fdb",
            "8ce54ef34c6842b785d0b869fe910da5",
            "4ae6cf2c0d2a4b29aa435057cdf58e64",
            "758819fa64d247da94e96b3bea7febee",
            "e62abb03aa2246d9b51e967fd13721ac"
          ]
        },
        "id": "lcfOxZoGYNYY",
        "outputId": "ec8a3e68-0a89-401d-bef5-2143d484393d",
        "collapsed": true
      },
      "execution_count": 30,
      "outputs": [
        {
          "output_type": "display_data",
          "data": {
            "text/plain": [
              "Resolving data files:   0%|          | 0/833 [00:00<?, ?it/s]"
            ],
            "application/vnd.jupyter.widget-view+json": {
              "version_major": 2,
              "version_minor": 0,
              "model_id": "206aad6126844ee886667cf42b378310"
            }
          },
          "metadata": {}
        },
        {
          "output_type": "stream",
          "name": "stdout",
          "text": [
            "Label distribution: Counter({1: 421, 0: 410})\n"
          ]
        }
      ]
    },
    {
      "cell_type": "code",
      "source": [
        "# Step 6: GroupKFold (no speaker/session in both train & test)\n",
        "k_folds = 5\n",
        "gkf = GroupKFold(n_splits=k_folds)\n",
        "all_y_true, all_y_pred = [], []\n",
        "\n",
        "for fold, (train_idx, test_idx) in enumerate(gkf.split(preprocessed, labels, groups), 1):\n",
        "    print(f\"\\nFold {fold}/{k_folds}\")\n",
        "\n",
        "    train_dataset = PDDataset(preprocessed, train_idx, transform=transform, augment=True)\n",
        "    test_dataset = PDDataset(preprocessed, test_idx, transform=transform)\n",
        "\n",
        "    train_loader = DataLoader(train_dataset, batch_size=16, shuffle=True)\n",
        "    test_loader = DataLoader(test_dataset, batch_size=16)\n",
        "\n",
        "    # Define model\n",
        "    model = models.resnet18(weights=models.ResNet18_Weights.DEFAULT)\n",
        "    num_ftrs = model.fc.in_features\n",
        "    model.fc = torch.nn.Sequential(\n",
        "        torch.nn.Dropout(0.5),\n",
        "        torch.nn.Linear(num_ftrs, 2)\n",
        "    )\n",
        "    device = torch.device(\"cuda\" if torch.cuda.is_available() else \"cpu\")\n",
        "    model.to(device)\n",
        "\n",
        "    criterion = torch.nn.CrossEntropyLoss()\n",
        "    optimizer = torch.optim.Adam(model.parameters(), lr=1e-4, weight_decay=1e-5)\n",
        "\n",
        "    # Training\n",
        "    for epoch in range(5):\n",
        "        model.train()\n",
        "        train_loss, correct, total = 0, 0, 0\n",
        "        for images, labels in train_loader:\n",
        "            images, labels = images.to(device), labels.to(device)\n",
        "            outputs = model(images)\n",
        "            loss = criterion(outputs, labels)\n",
        "            optimizer.zero_grad()\n",
        "            loss.backward()\n",
        "            optimizer.step()\n",
        "            train_loss += loss.item()\n",
        "            _, predicted = torch.max(outputs.data, 1)\n",
        "            total += labels.size(0)\n",
        "            correct += (predicted == labels).sum().item()\n",
        "        print(f\"Epoch {epoch+1}, Training Loss: {train_loss/len(train_loader):.4f}, Training Accuracy: {100 * correct / total:.2f}%\")\n",
        "\n",
        "    # Evaluation\n",
        "    model.eval()\n",
        "    test_loss, test_correct, test_total = 0, 0, 0\n",
        "    y_true, y_pred = [], []\n",
        "    with torch.no_grad():\n",
        "        for images, labels in test_loader:\n",
        "            images, labels = images.to(device), labels.to(device)\n",
        "            outputs = model(images)\n",
        "            loss = criterion(outputs, labels)\n",
        "            test_loss += loss.item()\n",
        "            _, predicted = torch.max(outputs.data, 1)\n",
        "            y_true.extend(labels.cpu().numpy())\n",
        "            y_pred.extend(predicted.cpu().numpy())\n",
        "            test_total += labels.size(0)\n",
        "            test_correct += (predicted == labels).sum().item()\n",
        "    all_y_true.extend(y_true)\n",
        "    all_y_pred.extend(y_pred)\n",
        "    print(f\"Test Loss: {test_loss/len(test_loader):.4f}, Test Accuracy: {100 * test_correct / test_total:.2f}%\")"
      ],
      "metadata": {
        "id": "KEmr8kK8Zaxb",
        "colab": {
          "base_uri": "https://localhost:8080/"
        },
        "outputId": "8b5a29e3-57f9-4f9b-8025-83fe11e51c07"
      },
      "execution_count": 31,
      "outputs": [
        {
          "output_type": "stream",
          "name": "stdout",
          "text": [
            "\n",
            "Fold 1/5\n",
            "Epoch 1, Training Loss: 0.4103, Training Accuracy: 80.42%\n",
            "Epoch 2, Training Loss: 0.1710, Training Accuracy: 93.83%\n",
            "Epoch 3, Training Loss: 0.1058, Training Accuracy: 96.54%\n",
            "Epoch 4, Training Loss: 0.0863, Training Accuracy: 97.14%\n",
            "Epoch 5, Training Loss: 0.1237, Training Accuracy: 95.63%\n",
            "Test Loss: 0.6527, Test Accuracy: 73.05%\n",
            "\n",
            "Fold 2/5\n",
            "Epoch 1, Training Loss: 0.4055, Training Accuracy: 80.75%\n",
            "Epoch 2, Training Loss: 0.1569, Training Accuracy: 94.14%\n",
            "Epoch 3, Training Loss: 0.1224, Training Accuracy: 95.49%\n",
            "Epoch 4, Training Loss: 0.0867, Training Accuracy: 97.44%\n",
            "Epoch 5, Training Loss: 0.0734, Training Accuracy: 97.74%\n",
            "Test Loss: 0.3774, Test Accuracy: 86.14%\n",
            "\n",
            "Fold 3/5\n",
            "Epoch 1, Training Loss: 0.4344, Training Accuracy: 80.00%\n",
            "Epoch 2, Training Loss: 0.1418, Training Accuracy: 95.19%\n",
            "Epoch 3, Training Loss: 0.1572, Training Accuracy: 94.14%\n",
            "Epoch 4, Training Loss: 0.0845, Training Accuracy: 96.69%\n",
            "Epoch 5, Training Loss: 0.0697, Training Accuracy: 97.44%\n",
            "Test Loss: 0.0651, Test Accuracy: 98.80%\n",
            "\n",
            "Fold 4/5\n",
            "Epoch 1, Training Loss: 0.4364, Training Accuracy: 79.85%\n",
            "Epoch 2, Training Loss: 0.2136, Training Accuracy: 91.43%\n",
            "Epoch 3, Training Loss: 0.1509, Training Accuracy: 94.74%\n",
            "Epoch 4, Training Loss: 0.1387, Training Accuracy: 94.89%\n",
            "Epoch 5, Training Loss: 0.1099, Training Accuracy: 96.69%\n",
            "Test Loss: 0.0756, Test Accuracy: 96.39%\n",
            "\n",
            "Fold 5/5\n",
            "Epoch 1, Training Loss: 0.4745, Training Accuracy: 77.89%\n",
            "Epoch 2, Training Loss: 0.1933, Training Accuracy: 92.78%\n",
            "Epoch 3, Training Loss: 0.1067, Training Accuracy: 96.39%\n",
            "Epoch 4, Training Loss: 0.1368, Training Accuracy: 94.89%\n",
            "Epoch 5, Training Loss: 0.0758, Training Accuracy: 97.59%\n",
            "Test Loss: 0.1099, Test Accuracy: 93.37%\n"
          ]
        }
      ]
    },
    {
      "cell_type": "code",
      "source": [
        "from sklearn.metrics import classification_report, confusion_matrix\n",
        "\n",
        "print(\"\\nClassification Report (All Folds):\")\n",
        "print(classification_report(all_y_true, all_y_pred, target_names=[\"HC\", \"PD\"]))\n",
        "print(\"Confusion Matrix:\")\n",
        "print(confusion_matrix(all_y_true, all_y_pred))"
      ],
      "metadata": {
        "colab": {
          "base_uri": "https://localhost:8080/"
        },
        "id": "aNLFZIF6hher",
        "outputId": "5d2a0a48-78aa-4adb-938b-5351dc647f8c"
      },
      "execution_count": 32,
      "outputs": [
        {
          "output_type": "stream",
          "name": "stdout",
          "text": [
            "\n",
            "Classification Report (All Folds):\n",
            "              precision    recall  f1-score   support\n",
            "\n",
            "          HC       0.98      0.80      0.88       410\n",
            "          PD       0.84      0.99      0.91       421\n",
            "\n",
            "    accuracy                           0.90       831\n",
            "   macro avg       0.91      0.89      0.89       831\n",
            "weighted avg       0.91      0.90      0.89       831\n",
            "\n",
            "Confusion Matrix:\n",
            "[[328  82]\n",
            " [  5 416]]\n"
          ]
        }
      ]
    },
    {
      "cell_type": "code",
      "source": [
        "# Plot Confusion Matrix\n",
        "import matplotlib.pyplot as plt\n",
        "import seaborn as sns\n",
        "from sklearn.metrics import confusion_matrix\n",
        "\n",
        "# Assuming all_y_true and all_y_pred contain your test labels and predictions\n",
        "cm = confusion_matrix(all_y_true, all_y_pred)\n",
        "plt.figure(figsize=(5,4))\n",
        "sns.heatmap(cm, annot=True, fmt='d', cmap='Blues', xticklabels=['HC','PD'], yticklabels=['HC','PD'])\n",
        "plt.xlabel('Predicted')\n",
        "plt.ylabel('True')\n",
        "plt.title('Confusion Matrix')\n",
        "plt.show()"
      ],
      "metadata": {
        "colab": {
          "base_uri": "https://localhost:8080/",
          "height": 410
        },
        "id": "DOS3sV18lrIk",
        "outputId": "6432d96a-1e55-4321-e0e4-140b07721718"
      },
      "execution_count": 33,
      "outputs": [
        {
          "output_type": "display_data",
          "data": {
            "text/plain": [
              "<Figure size 500x400 with 2 Axes>"
            ],
            "image/png": "[encoded data removed]"
          },
          "metadata": {}
        }
      ]
    },
    {
      "cell_type": "code",
      "source": [
        "from sklearn.metrics import roc_curve, auc\n",
        "\n",
        "fpr, tpr, _ = roc_curve(all_y_true, all_y_pred)\n",
        "roc_auc = auc(fpr, tpr)\n",
        "plt.figure()\n",
        "plt.plot(fpr, tpr, label=f\"ROC curve (AUC = {roc_auc:.2f})\")\n",
        "plt.plot([0, 1], [0, 1], 'k--')\n",
        "plt.xlabel(\"False Positive Rate\")\n",
        "plt.ylabel(\"True Positive Rate\")\n",
        "plt.title(\"ROC Curve\")\n",
        "plt.legend(loc=\"lower right\")\n",
        "plt.show()"
      ],
      "metadata": {
        "id": "-O4CMMJ1Z8ps",
        "colab": {
          "base_uri": "https://localhost:8080/",
          "height": 472
        },
        "outputId": "6d0c1579-c401-4b3b-c9df-fc9e71e6d64b"
      },
      "execution_count": 34,
      "outputs": [
        {
          "output_type": "display_data",
          "data": {
            "text/plain": [
              "<Figure size 640x480 with 1 Axes>"
            ],
            "image/png": "[encoded data removed]"
          },
          "metadata": {}
        }
      ]
    }
  ]
}